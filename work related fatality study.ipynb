{
 "cells": [
  {
   "cell_type": "code",
   "execution_count": null,
   "id": "0d003119",
   "metadata": {},
   "outputs": [],
   "source": []
  },
  {
   "cell_type": "code",
   "execution_count": null,
   "id": "8c54648e",
   "metadata": {},
   "outputs": [],
   "source": []
  },
  {
   "cell_type": "code",
   "execution_count": null,
   "id": "dd1183fc",
   "metadata": {},
   "outputs": [],
   "source": []
  },
  {
   "cell_type": "code",
   "execution_count": null,
   "id": "8f82de48",
   "metadata": {},
   "outputs": [],
   "source": []
  },
  {
   "cell_type": "code",
   "execution_count": null,
   "id": "a2fee35e",
   "metadata": {},
   "outputs": [],
   "source": []
  },
  {
   "cell_type": "code",
   "execution_count": null,
   "id": "c7b329c7",
   "metadata": {},
   "outputs": [],
   "source": []
  },
  {
   "cell_type": "code",
   "execution_count": 3,
   "id": "6dc5ab11",
   "metadata": {},
   "outputs": [],
   "source": [
    "import pandas as pd\n",
    "import numpy as np\n",
    "\n",
    "\n",
    "#Task 1: Read the given dataset\n",
    "def read_data_from_csv():\n",
    "    #df =read the 'fatality.csv' file\n",
    "    df = pd.read_csv('./fatality.csv')\n",
    "    \n",
    "    return df\n",
    "\n",
    "\n",
    "#Task 2: Clean the given dataset\n",
    "def data_cleaning():\n",
    "    # do not edit the predefined function name\n",
    "    df = read_data_from_csv()\n",
    "    # Remove the 'Unnamed' column\n",
    "    df.drop(columns = ['Unnamed'], inplace=True)\n",
    "    \n",
    "    return df\n",
    "\n",
    "\n",
    "#Task 3: Export the cleaned dataset to \"fatalities_cleaned.csv\"\n",
    "def export_the_dataset():\n",
    "    # do not edit the predefined function name\n",
    "    df=data_cleaning()\n",
    "    #write your code to export the cleaned dataset and set the index=false and return the same as 'df'\n",
    "    df.to_csv('./fatalities_cleaned.csv', index=False)\n",
    "    \n",
    "    return df\n",
    "\n",
    "\n",
    "# Task 4: This section pertains to loading the cleaned dataset into the provided database.\n",
    "# Generate Tables Using Cleaned Dataset\n",
    "##Check the instruction file in MySQL Table Creation Instruction\n",
    "\n",
    "\n",
    "# Ensuring that the MySQL table has been created using \"fatalities_cleaned\"\n",
    "# This final cleaned dataset will be uploaded onto the provided database for subsequent analysis in MySQL.\n",
    "# To execute this task, navigate to the terminal and initiate the project run.\n",
    "\n"
   ]
  },
  {
   "cell_type": "markdown",
   "id": "cd044594",
   "metadata": {},
   "source": [
    "Generate tables using the cleaned dataset:\n",
    "Download the cleaned dataset by clicking on the 'fatalities_cleaned.csv' from File explorer\n",
    "\n",
    "\n",
    "Utilize the MySQL database information provided in \"Database info\" to login manually and \n",
    "import the cleaned dataset and\n",
    "create the table name 'fatalities_cleaned' that should contains the below columns.\n",
    "\n",
    "id\n",
    "incident_date\n",
    "day_of_week\n",
    "city\n",
    "state\n",
    "description\n",
    "plan\n",
    "citation\n",
    "To begin, we need to ensure that the cleaned datasets, \n",
    "\"fatalities_cleaned.csv\" is uploaded to a MySQL database and\n",
    "that the database connection details are updated in the \"db.py\" file."
   ]
  },
  {
   "cell_type": "code",
   "execution_count": null,
   "id": "2807adab",
   "metadata": {},
   "outputs": [],
   "source": []
  }
 ],
 "metadata": {
  "kernelspec": {
   "display_name": "Python 3 (ipykernel)",
   "language": "python",
   "name": "python3"
  },
  "language_info": {
   "codemirror_mode": {
    "name": "ipython",
    "version": 3
   },
   "file_extension": ".py",
   "mimetype": "text/x-python",
   "name": "python",
   "nbconvert_exporter": "python",
   "pygments_lexer": "ipython3",
   "version": "3.9.7"
  }
 },
 "nbformat": 4,
 "nbformat_minor": 5
}
